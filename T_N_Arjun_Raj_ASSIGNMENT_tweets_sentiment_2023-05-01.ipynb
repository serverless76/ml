{
  "cells": [
    {
      "cell_type": "code",
      "execution_count": null,
      "metadata": {
        "id": "KEmoub7HNkev"
      },
      "outputs": [],
      "source": [
        "import pandas as pd\n",
        "import numpy as np"
      ]
    },
    {
      "cell_type": "code",
      "execution_count": null,
      "metadata": {
        "id": "yUmC2ue2N9zr"
      },
      "outputs": [],
      "source": [
        "tweets_data = pd.read_csv('tweets.csv')"
      ]
    },
    {
      "cell_type": "code",
      "execution_count": null,
      "metadata": {
        "colab": {
          "base_uri": "https://localhost:8080/"
        },
        "id": "_dmrpd7oOHuy",
        "outputId": "95862610-bea6-4a5e-804b-fa3e9e6aaac2"
      },
      "outputs": [
        {
          "output_type": "execute_result",
          "data": {
            "text/plain": [
              "(7920, 3)"
            ]
          },
          "metadata": {},
          "execution_count": 74
        }
      ],
      "source": [
        "tweets_data.shape"
      ]
    },
    {
      "cell_type": "code",
      "execution_count": null,
      "metadata": {
        "id": "YjMwfa7XpSTI"
      },
      "outputs": [],
      "source": [
        "# from google.colab import drive\n",
        "# drive.mount('/content/drive')"
      ]
    },
    {
      "cell_type": "code",
      "execution_count": null,
      "metadata": {
        "colab": {
          "base_uri": "https://localhost:8080/"
        },
        "id": "x7FzXEhKOJ-6",
        "outputId": "c8337edc-7d65-46a0-a714-10d3237398fa"
      },
      "outputs": [
        {
          "output_type": "execute_result",
          "data": {
            "text/plain": [
              "Index(['id', 'label', 'tweet'], dtype='object')"
            ]
          },
          "metadata": {},
          "execution_count": 76
        }
      ],
      "source": [
        "tweets_data.columns"
      ]
    },
    {
      "cell_type": "code",
      "execution_count": null,
      "metadata": {
        "colab": {
          "base_uri": "https://localhost:8080/",
          "height": 514
        },
        "id": "iIfGRl7PONIW",
        "outputId": "fb4e3386-d7f0-4b98-a303-0402c21ada87"
      },
      "outputs": [
        {
          "output_type": "execute_result",
          "data": {
            "text/plain": [
              "    id  label                                              tweet\n",
              "0    1      0  #fingerprint #Pregnancy Test https://goo.gl/h1...\n",
              "1    2      0  Finally a transparant silicon case ^^ Thanks t...\n",
              "2    3      0  We love this! Would you go? #talk #makememorie...\n",
              "3    4      0  I'm wired I know I'm George I was made that wa...\n",
              "4    5      1  What amazing service! Apple won't even talk to...\n",
              "5    6      1  iPhone software update fucked up my phone big ...\n",
              "6    7      0  Happy for us .. #instapic #instadaily #us #son...\n",
              "7    8      0  New Type C charger cable #UK http://www.ebay.c...\n",
              "8    9      0  Bout to go shopping again listening to music #...\n",
              "9   10      0  Photo: #fun #selfie #pool #water #sony #camera...\n",
              "10  11      1  hey #apple when you make a new ipod dont make ...\n",
              "11  12      1  Ha! Not heavy machinery but it does what I nee...\n",
              "12  13      1  Contemplating giving in to the iPhone bandwago...\n",
              "13  14      0  I just made another crazy purchase lol my theo...\n",
              "14  15      1  @shaqlockholmes @sam_louise1991 the battery is..."
            ],
            "text/html": [
              "\n",
              "  <div id=\"df-9596dc96-939c-4a81-8658-625cfffb2bc7\">\n",
              "    <div class=\"colab-df-container\">\n",
              "      <div>\n",
              "<style scoped>\n",
              "    .dataframe tbody tr th:only-of-type {\n",
              "        vertical-align: middle;\n",
              "    }\n",
              "\n",
              "    .dataframe tbody tr th {\n",
              "        vertical-align: top;\n",
              "    }\n",
              "\n",
              "    .dataframe thead th {\n",
              "        text-align: right;\n",
              "    }\n",
              "</style>\n",
              "<table border=\"1\" class=\"dataframe\">\n",
              "  <thead>\n",
              "    <tr style=\"text-align: right;\">\n",
              "      <th></th>\n",
              "      <th>id</th>\n",
              "      <th>label</th>\n",
              "      <th>tweet</th>\n",
              "    </tr>\n",
              "  </thead>\n",
              "  <tbody>\n",
              "    <tr>\n",
              "      <th>0</th>\n",
              "      <td>1</td>\n",
              "      <td>0</td>\n",
              "      <td>#fingerprint #Pregnancy Test https://goo.gl/h1...</td>\n",
              "    </tr>\n",
              "    <tr>\n",
              "      <th>1</th>\n",
              "      <td>2</td>\n",
              "      <td>0</td>\n",
              "      <td>Finally a transparant silicon case ^^ Thanks t...</td>\n",
              "    </tr>\n",
              "    <tr>\n",
              "      <th>2</th>\n",
              "      <td>3</td>\n",
              "      <td>0</td>\n",
              "      <td>We love this! Would you go? #talk #makememorie...</td>\n",
              "    </tr>\n",
              "    <tr>\n",
              "      <th>3</th>\n",
              "      <td>4</td>\n",
              "      <td>0</td>\n",
              "      <td>I'm wired I know I'm George I was made that wa...</td>\n",
              "    </tr>\n",
              "    <tr>\n",
              "      <th>4</th>\n",
              "      <td>5</td>\n",
              "      <td>1</td>\n",
              "      <td>What amazing service! Apple won't even talk to...</td>\n",
              "    </tr>\n",
              "    <tr>\n",
              "      <th>5</th>\n",
              "      <td>6</td>\n",
              "      <td>1</td>\n",
              "      <td>iPhone software update fucked up my phone big ...</td>\n",
              "    </tr>\n",
              "    <tr>\n",
              "      <th>6</th>\n",
              "      <td>7</td>\n",
              "      <td>0</td>\n",
              "      <td>Happy for us .. #instapic #instadaily #us #son...</td>\n",
              "    </tr>\n",
              "    <tr>\n",
              "      <th>7</th>\n",
              "      <td>8</td>\n",
              "      <td>0</td>\n",
              "      <td>New Type C charger cable #UK http://www.ebay.c...</td>\n",
              "    </tr>\n",
              "    <tr>\n",
              "      <th>8</th>\n",
              "      <td>9</td>\n",
              "      <td>0</td>\n",
              "      <td>Bout to go shopping again listening to music #...</td>\n",
              "    </tr>\n",
              "    <tr>\n",
              "      <th>9</th>\n",
              "      <td>10</td>\n",
              "      <td>0</td>\n",
              "      <td>Photo: #fun #selfie #pool #water #sony #camera...</td>\n",
              "    </tr>\n",
              "    <tr>\n",
              "      <th>10</th>\n",
              "      <td>11</td>\n",
              "      <td>1</td>\n",
              "      <td>hey #apple when you make a new ipod dont make ...</td>\n",
              "    </tr>\n",
              "    <tr>\n",
              "      <th>11</th>\n",
              "      <td>12</td>\n",
              "      <td>1</td>\n",
              "      <td>Ha! Not heavy machinery but it does what I nee...</td>\n",
              "    </tr>\n",
              "    <tr>\n",
              "      <th>12</th>\n",
              "      <td>13</td>\n",
              "      <td>1</td>\n",
              "      <td>Contemplating giving in to the iPhone bandwago...</td>\n",
              "    </tr>\n",
              "    <tr>\n",
              "      <th>13</th>\n",
              "      <td>14</td>\n",
              "      <td>0</td>\n",
              "      <td>I just made another crazy purchase lol my theo...</td>\n",
              "    </tr>\n",
              "    <tr>\n",
              "      <th>14</th>\n",
              "      <td>15</td>\n",
              "      <td>1</td>\n",
              "      <td>@shaqlockholmes @sam_louise1991 the battery is...</td>\n",
              "    </tr>\n",
              "  </tbody>\n",
              "</table>\n",
              "</div>\n",
              "      <button class=\"colab-df-convert\" onclick=\"convertToInteractive('df-9596dc96-939c-4a81-8658-625cfffb2bc7')\"\n",
              "              title=\"Convert this dataframe to an interactive table.\"\n",
              "              style=\"display:none;\">\n",
              "        \n",
              "  <svg xmlns=\"http://www.w3.org/2000/svg\" height=\"24px\"viewBox=\"0 0 24 24\"\n",
              "       width=\"24px\">\n",
              "    <path d=\"M0 0h24v24H0V0z\" fill=\"none\"/>\n",
              "    <path d=\"M18.56 5.44l.94 2.06.94-2.06 2.06-.94-2.06-.94-.94-2.06-.94 2.06-2.06.94zm-11 1L8.5 8.5l.94-2.06 2.06-.94-2.06-.94L8.5 2.5l-.94 2.06-2.06.94zm10 10l.94 2.06.94-2.06 2.06-.94-2.06-.94-.94-2.06-.94 2.06-2.06.94z\"/><path d=\"M17.41 7.96l-1.37-1.37c-.4-.4-.92-.59-1.43-.59-.52 0-1.04.2-1.43.59L10.3 9.45l-7.72 7.72c-.78.78-.78 2.05 0 2.83L4 21.41c.39.39.9.59 1.41.59.51 0 1.02-.2 1.41-.59l7.78-7.78 2.81-2.81c.8-.78.8-2.07 0-2.86zM5.41 20L4 18.59l7.72-7.72 1.47 1.35L5.41 20z\"/>\n",
              "  </svg>\n",
              "      </button>\n",
              "      \n",
              "  <style>\n",
              "    .colab-df-container {\n",
              "      display:flex;\n",
              "      flex-wrap:wrap;\n",
              "      gap: 12px;\n",
              "    }\n",
              "\n",
              "    .colab-df-convert {\n",
              "      background-color: #E8F0FE;\n",
              "      border: none;\n",
              "      border-radius: 50%;\n",
              "      cursor: pointer;\n",
              "      display: none;\n",
              "      fill: #1967D2;\n",
              "      height: 32px;\n",
              "      padding: 0 0 0 0;\n",
              "      width: 32px;\n",
              "    }\n",
              "\n",
              "    .colab-df-convert:hover {\n",
              "      background-color: #E2EBFA;\n",
              "      box-shadow: 0px 1px 2px rgba(60, 64, 67, 0.3), 0px 1px 3px 1px rgba(60, 64, 67, 0.15);\n",
              "      fill: #174EA6;\n",
              "    }\n",
              "\n",
              "    [theme=dark] .colab-df-convert {\n",
              "      background-color: #3B4455;\n",
              "      fill: #D2E3FC;\n",
              "    }\n",
              "\n",
              "    [theme=dark] .colab-df-convert:hover {\n",
              "      background-color: #434B5C;\n",
              "      box-shadow: 0px 1px 3px 1px rgba(0, 0, 0, 0.15);\n",
              "      filter: drop-shadow(0px 1px 2px rgba(0, 0, 0, 0.3));\n",
              "      fill: #FFFFFF;\n",
              "    }\n",
              "  </style>\n",
              "\n",
              "      <script>\n",
              "        const buttonEl =\n",
              "          document.querySelector('#df-9596dc96-939c-4a81-8658-625cfffb2bc7 button.colab-df-convert');\n",
              "        buttonEl.style.display =\n",
              "          google.colab.kernel.accessAllowed ? 'block' : 'none';\n",
              "\n",
              "        async function convertToInteractive(key) {\n",
              "          const element = document.querySelector('#df-9596dc96-939c-4a81-8658-625cfffb2bc7');\n",
              "          const dataTable =\n",
              "            await google.colab.kernel.invokeFunction('convertToInteractive',\n",
              "                                                     [key], {});\n",
              "          if (!dataTable) return;\n",
              "\n",
              "          const docLinkHtml = 'Like what you see? Visit the ' +\n",
              "            '<a target=\"_blank\" href=https://colab.research.google.com/notebooks/data_table.ipynb>data table notebook</a>'\n",
              "            + ' to learn more about interactive tables.';\n",
              "          element.innerHTML = '';\n",
              "          dataTable['output_type'] = 'display_data';\n",
              "          await google.colab.output.renderOutput(dataTable, element);\n",
              "          const docLink = document.createElement('div');\n",
              "          docLink.innerHTML = docLinkHtml;\n",
              "          element.appendChild(docLink);\n",
              "        }\n",
              "      </script>\n",
              "    </div>\n",
              "  </div>\n",
              "  "
            ]
          },
          "metadata": {},
          "execution_count": 77
        }
      ],
      "source": [
        "tweets_data.head(15)"
      ]
    },
    {
      "cell_type": "code",
      "execution_count": null,
      "metadata": {
        "colab": {
          "base_uri": "https://localhost:8080/",
          "height": 52
        },
        "id": "ulW5nHEiOQNl",
        "outputId": "c0401056-77bf-4daf-93a1-8ee4a41037c9"
      },
      "outputs": [
        {
          "output_type": "execute_result",
          "data": {
            "text/plain": [
              "\"What amazing service! Apple won't even talk to me about a question I have unless I pay them $19.95 for their stupid support!\""
            ],
            "application/vnd.google.colaboratory.intrinsic+json": {
              "type": "string"
            }
          },
          "metadata": {},
          "execution_count": 78
        }
      ],
      "source": [
        "tweets_data['tweet'][4]"
      ]
    },
    {
      "cell_type": "code",
      "execution_count": null,
      "metadata": {
        "id": "xwqaU66_OUPG"
      },
      "outputs": [],
      "source": [
        "# tweets_data['label'][1]"
      ]
    },
    {
      "cell_type": "code",
      "execution_count": null,
      "metadata": {
        "colab": {
          "base_uri": "https://localhost:8080/"
        },
        "id": "W637aCZkObvI",
        "outputId": "baa3a7b1-c2e4-494f-d3b0-1d3a1ad6bb14"
      },
      "outputs": [
        {
          "output_type": "execute_result",
          "data": {
            "text/plain": [
              "0    5894\n",
              "1    2026\n",
              "Name: label, dtype: int64"
            ]
          },
          "metadata": {},
          "execution_count": 80
        }
      ],
      "source": [
        "tweets_data['label'].value_counts()"
      ]
    },
    {
      "cell_type": "code",
      "execution_count": null,
      "metadata": {
        "id": "4DzD0FDTLNpK"
      },
      "outputs": [],
      "source": [
        "tweets_data=tweets_data.drop('id',axis=1)\n",
        "X=tweets_data.drop('label',axis=1)\n",
        "y=tweets_data['label']"
      ]
    },
    {
      "cell_type": "code",
      "execution_count": null,
      "metadata": {
        "id": "ei3JFdj5LNpL"
      },
      "outputs": [],
      "source": [
        "from sklearn.model_selection import train_test_split\n",
        "\n",
        "X_train, X_test, y_train,y_test = train_test_split(X,y,test_size=0.2, random_state=1)"
      ]
    },
    {
      "cell_type": "code",
      "execution_count": null,
      "metadata": {
        "colab": {
          "base_uri": "https://localhost:8080/"
        },
        "id": "t811NvOorF2e",
        "outputId": "c75a1f34-461d-4562-bcfd-d54b4cd4bed0"
      },
      "outputs": [
        {
          "output_type": "stream",
          "name": "stderr",
          "text": [
            "[nltk_data] Downloading package punkt to /root/nltk_data...\n",
            "[nltk_data]   Package punkt is already up-to-date!\n",
            "[nltk_data] Downloading package stopwords to /root/nltk_data...\n",
            "[nltk_data]   Package stopwords is already up-to-date!\n",
            "[nltk_data] Downloading package wordnet to /root/nltk_data...\n",
            "[nltk_data]   Package wordnet is already up-to-date!\n",
            "[nltk_data] Downloading package averaged_perceptron_tagger to\n",
            "[nltk_data]     /root/nltk_data...\n",
            "[nltk_data]   Package averaged_perceptron_tagger is already up-to-\n",
            "[nltk_data]       date!\n"
          ]
        },
        {
          "output_type": "execute_result",
          "data": {
            "text/plain": [
              "True"
            ]
          },
          "metadata": {},
          "execution_count": 83
        }
      ],
      "source": [
        "import nltk\n",
        "nltk.download('punkt')\n",
        "nltk.download('stopwords')\n",
        "nltk.download('wordnet')\n",
        "nltk.download('averaged_perceptron_tagger')"
      ]
    },
    {
      "cell_type": "code",
      "execution_count": null,
      "metadata": {
        "id": "bvgU_zqwLNpM"
      },
      "outputs": [],
      "source": [
        "from bs4 import BeautifulSoup\n",
        "import re\n",
        "#Removing the html strips\n",
        "def strip_html(text):\n",
        "    soup = BeautifulSoup(text, \"html.parser\")\n",
        "    return soup.get_text()\n",
        "\n",
        "#Removing the square brackets\n",
        "def remove_between_square_brackets(text):\n",
        "    return re.sub('\\[[^]]*\\]', '', text)\n",
        "\n",
        "#Removing the noisy text\n",
        "def denoise_text(text):\n",
        "    text = strip_html(text)\n",
        "    text = remove_between_square_brackets(text)\n",
        "    return text\n",
        "\n",
        "\n",
        "#Define function for removing special characters\n",
        "def remove_special_characters(text, remove_digits=True):\n",
        "    pattern=r'[^a-zA-z0-9\\s]'\n",
        "    text=re.sub(pattern,'',text)\n",
        "    text = re.sub(r\"[^A-Za-z0-9^,!.\\/'+-=]\", \" \", text)\n",
        "    text = re.sub(r\"what's\", \"what is \", text)\n",
        "    text = re.sub(r\"\\'s\", \" \", text)\n",
        "    text = re.sub(r\"\\'ve\", \" have \", text)\n",
        "    text = re.sub(r\"can't\", \"cannot \", text)\n",
        "    text = re.sub(r\"n't\", \" not \", text)\n",
        "    text = re.sub(r\"I'm\", \"i am \", text)\n",
        "    text = re.sub(r\"\\'re\", \" are \", text)\n",
        "    text = re.sub(r\"\\'d\", \" would \", text)\n",
        "    text = re.sub(r\"\\'ll\", \" will \", text)\n",
        "    text = re.sub(r\",\", \" \", text)\n",
        "    text = re.sub(r\"\\.\", \" \", text)\n",
        "    text = re.sub(r\"!\", \" ! \", text)\n",
        "    text = re.sub(r\"\\^^\", \"\", text)\n",
        "    text = re.sub(r\"\\/\", \" \", text)\n",
        "    text = re.sub(r\"\\^\", \" ^ \", text)\n",
        "    text = re.sub(r\"\\+\", \" + \", text)\n",
        "    text = re.sub(r\"\\-\", \" - \", text)\n",
        "    text = re.sub(r\"\\=\", \" = \", text)\n",
        "    text = re.sub(r\"'\", \" \", text)\n",
        "    text = re.sub(r\"(\\d+)(k)\", r\"\\g<1>000\", text)\n",
        "    text = re.sub(r\":\", \" : \", text)\n",
        "    text = re.sub(r\" e g \", \" eg \", text)\n",
        "    text = re.sub(r\" b g \", \" bg \", text)\n",
        "    text = re.sub(r\" u s \", \" american \", text)\n",
        "    text = re.sub(r\"\\0s\", \"0\", text)\n",
        "    text = re.sub(r\" 9 11 \", \"911\", text)\n",
        "    text = re.sub(r\"e - mail\", \"email\", text)\n",
        "    text = re.sub(r\"j k\", \"jk\", text)\n",
        "    text = re.sub(r\"\\s{2,}\", \" \", text)\n",
        "    return text\n",
        "\n",
        "def lemmatize_text(text):\n",
        "    lem=nltk.stem.wordnet.WordNetLemmatizer()\n",
        "    text= ' '.join([lem.lemmatize(word) for word in text.split()])\n",
        "    return text\n",
        "    "
      ]
    },
    {
      "cell_type": "code",
      "execution_count": null,
      "metadata": {
        "id": "6-KBTC87OmV7"
      },
      "outputs": [],
      "source": [
        "from sklearn.base import BaseEstimator, TransformerMixin\n",
        "from sklearn.pipeline import FeatureUnion, Pipeline\n",
        "from gensim.utils import simple_preprocess\n",
        "from sklearn.feature_extraction.text import TfidfVectorizer\n",
        "from sklearn.feature_extraction.text import CountVectorizer\n",
        "from nltk.tokenize import word_tokenize\n",
        "\n",
        "class DummyTransformer(BaseEstimator,TransformerMixin):\n",
        "    \n",
        "    '''\n",
        "    dummy class to inherit from to avoid typing the fit method for everything\n",
        "    '''\n",
        "    def __init__(self):\n",
        "        return None\n",
        "    def fit(self,X=None,y=None):\n",
        "        return self\n",
        "    def transform(self,X=None):\n",
        "        return X\n",
        "    \n",
        "def do_basic_text_preprocessing(text:str):\n",
        "    preprocessed_text=denoise_text(text)\n",
        "    preprocessed_text=remove_special_characters(preprocessed_text)\n",
        "    preprocessed_text=lemmatize_text(preprocessed_text)\n",
        "\n",
        "    return preprocessed_text\n",
        "\n",
        "class TextPreprocessor(DummyTransformer):\n",
        "    def transform(self,X:pd.DataFrame):\n",
        "#         preprocessed_X_np_array=X.apply(do_basic_text_preprocessing).values\n",
        "        # preprocessed_X_nparr=X['tweet'].apply(lambda x:do_basic_text_preprocessing(x)).values\n",
        "        preprocessed_X_df=X['tweet'].apply(lambda x:do_basic_text_preprocessing(x))\n",
        "        return preprocessed_X_df\n",
        "\n",
        "class Tokenizer(DummyTransformer):\n",
        "    def transform(self, X):\n",
        "        X=pd.DataFrame(X)\n",
        "        # print(X.info())\n",
        "        # print(X)\n",
        "        X_tokenized=X['tweet'].apply(lambda x:simple_preprocess(x))\n",
        "        # X_tokenized=X.apply(word_tokenize,axis=0) ## requires downloading punkt\n",
        "        # print(X_tokenized)\n",
        "        return X_tokenized\n",
        "\n",
        "class SparseToDenseArr(DummyTransformer):\n",
        "    def transform(self,X=None):\n",
        "#         preprocessed_X_np_array=X.apply(do_basic_text_preprocessing).values\n",
        "        dense_arr=X.toarray()\n",
        "\n",
        "        return dense_arr    \n",
        "\n",
        "class MetaFeatureEngineer(DummyTransformer):\n",
        "    def transform(self, X=None,y=None):\n",
        "        return None\n",
        "\n",
        "tfidf_meta_union_inst=FeatureUnion([('tfidf',TfidfVectorizer()),('metafeature',MetaFeatureEngineer())])\n",
        "    \n",
        "tfidf_pipeline=Pipeline([('textpreprocessor',TextPreprocessor()),('main',tfidf_meta_union_inst),('sparsetodense',SparseToDenseArr())])\n",
        "\n",
        "# tfidf_pipeline=Pipeline([('textpreprocessor',TextPreprocessor()),('tfidf',TfidfVectorizer()),('sparsetodense',SparseToDenseArr())])\n",
        "\n",
        "\n",
        "bow_meta_union_inst=FeatureUnion([('count',CountVectorizer()),('metafeature',MetaFeatureEngineer())])\n",
        "    \n",
        "bow_pipeline=Pipeline([('textpreprocessor',TextPreprocessor()),('main',bow_meta_union_inst),('sparsetodense',SparseToDenseArr())])\n",
        "\n",
        "\n"
      ]
    },
    {
      "cell_type": "code",
      "execution_count": null,
      "metadata": {
        "id": "l5QeS7fn_z0N"
      },
      "outputs": [],
      "source": [
        "### word2vec\n",
        "from gensim.models import Word2Vec\n",
        "from gensim.models import KeyedVectors\n",
        "\n",
        "class CustomWord2VecTransformer(DummyTransformer):\n",
        "    def __init__(self,**kwargs):\n",
        "        self.input_args=kwargs\n",
        "\n",
        "    def fit(self,X,y=None):\n",
        "        self.w2v_model=Word2Vec(X,**self.input_args)\n",
        "\n",
        "        return self\n",
        "\n",
        "    def get_mean_embedding_for_doc(self,doc_tokens):\n",
        "        model=self.w2v_model   \n",
        "        embeddings=[]\n",
        "        for tok in doc_tokens:\n",
        "            if tok in model.wv.index_to_key:\n",
        "                embeddings.append(model.wv.get_vector(tok))\n",
        "        return np.mean(embeddings,axis=0)\n",
        "\n",
        "    \n",
        "    def transform(self, X):\n",
        "\n",
        "        X_transformed=X.apply(lambda x:self.get_mean_embedding_for_doc(x))\n",
        "        X_transformed=pd.DataFrame(X_transformed.tolist())\n",
        "        # print(X_transformed)\n",
        "        return X_transformed\n",
        "\n",
        "\n",
        "class GoogleWord2VecTransformer(DummyTransformer):\n",
        "    # def __init__(self,vector_size = 300, window = 6 , min_count = 3, sg = 0):\n",
        "    def __init__(self,*args,**kwargs):\n",
        "        self.w2vmodel=KeyedVectors.load_word2vec_format(*args,**kwargs)\n",
        "\n",
        "        self.input_args=kwargs\n",
        "        # allowed_keys=['vector_size','window','min_count','sg']\n",
        "        # self.__dict__.update((k, v) for k, v in kwargs.items() if k in allowed_keys)\n",
        "\n",
        "\n",
        "    def fit(self,X,y=None):\n",
        "        \n",
        "        return self\n",
        "\n",
        "    def get_mean_embedding_for_doc(self,doc_tokens):\n",
        "        model=self.w2vmodel\n",
        "        embeddings=[]\n",
        "        for tok in doc_tokens:\n",
        "            if tok in model: ## note the synatx to get vector etc. are different from that for gensim model\n",
        "                embeddings.append(model[tok])\n",
        "        return np.mean(embeddings,axis=0)\n",
        "\n",
        "\n",
        "    def transform(self, X):\n",
        "        X_transformed=X.apply(lambda x:self.get_mean_embedding_for_doc(x))\n",
        "        X_transformed=pd.DataFrame(X_transformed.tolist())\n",
        "        return X_transformed\n",
        "\n",
        "\n"
      ]
    },
    {
      "cell_type": "code",
      "execution_count": null,
      "metadata": {
        "id": "GUsKjP5M5mlm"
      },
      "outputs": [],
      "source": [
        "\n",
        "# google_meta_union_inst=FeatureUnion([\n",
        "#     ('google',GoogleWord2VecTransformer(\"/content/drive/MyDrive/ml-ai files arjun/GoogleNews-vectors-negative300.bin\",binary=True)),\n",
        "#     ('metafeature',MetaFeatureEngineer())])\n",
        "from google.colab import drive\n",
        "drive.mount('/content/drive')\n",
        "google_trans_inst=GoogleWord2VecTransformer(\"/content/drive/MyDrive/ml-ai files arjun/GoogleNews-vectors-negative300.bin\",binary=True)\n"
      ]
    },
    {
      "cell_type": "code",
      "execution_count": null,
      "metadata": {
        "id": "53abysqYbRlT"
      },
      "outputs": [],
      "source": [
        "google_pipeline=Pipeline([('textpreprocessor',TextPreprocessor()),('tokenizer',Tokenizer()),('main',google_trans_inst)])\n",
        "cbow_custom_w2v_pipeline=Pipeline([('textpreprocessor',TextPreprocessor()),('tokenizer',Tokenizer()),('main',CustomWord2VecTransformer(vector_size = 300, window = 6 , min_count = 3, sg = 0))])\n",
        "skgram_w2v_pipeline=cbow_custom_w2v_pipeline.set_params(main=CustomWord2VecTransformer(vector_size = 300, window = 6 , min_count = 3, sg = 1))"
      ]
    },
    {
      "cell_type": "code",
      "source": [
        "# from importlib import import_module\n",
        "from sklearn.metrics import accuracy_score\n",
        "from sklearn.tree import DecisionTreeClassifier\n",
        "from sklearn.linear_model import LogisticRegression\n",
        "from sklearn.naive_bayes import GaussianNB \n",
        "\n",
        "result_dict={}\n",
        "\n",
        "pipelines=[tfidf_pipeline,bow_pipeline,google_pipeline,cbow_custom_w2v_pipeline,skgram_w2v_pipeline]\n",
        "pipeline_names=['tfidf_pipeline','bow_pipeline','google_pipeline','cbow_custom_w2v_pipeline','skgram_w2v_pipeline']\n",
        "\n",
        "count=0\n",
        "for pipe in pipelines:\n",
        "    pipe_name=pipeline_names[count]\n",
        "    X_train_transformed=pipe.fit_transform(X_train)\n",
        "    X_test_transformed=pipe.transform(X_test)\n",
        "    X_train_to_use=X_train_transformed\n",
        "    X_test_to_use=X_test_transformed\n",
        "    y_train_to_use=y_train\n",
        "    y_test_to_use=y_test\n",
        "    print(pipe_name)\n",
        "    # type(pipe[\"main\"]).__name__\n",
        "    algo_insts=[GaussianNB(),DecisionTreeClassifier(),LogisticRegression()] ## \n",
        "    count+=1\n",
        "    for algo_inst in algo_insts:\n",
        "        algo_inst.fit(X_train_to_use, y_train_to_use)\n",
        "        y_pred=algo_inst.predict(X_test_to_use)\n",
        "        result_dict.update({f'{pipe_name}_{type(algo_inst).__name__}':{'accuracy':accuracy_score(y_pred,y_test_to_use)}})\n",
        "pd.DataFrame(result_dict).transpose()"
      ],
      "metadata": {
        "colab": {
          "base_uri": "https://localhost:8080/",
          "height": 891
        },
        "id": "hrPDxFEPzl3p",
        "outputId": "0c262f3b-96b1-48bf-c48f-ee37b49ec14d"
      },
      "execution_count": null,
      "outputs": [
        {
          "output_type": "stream",
          "name": "stderr",
          "text": [
            "<ipython-input-84-528d8e3112de>:5: MarkupResemblesLocatorWarning: The input looks more like a filename than markup. You may want to open this file and pass the filehandle into Beautiful Soup.\n",
            "  soup = BeautifulSoup(text, \"html.parser\")\n"
          ]
        },
        {
          "output_type": "stream",
          "name": "stdout",
          "text": [
            "tfidf_pipeline\n"
          ]
        },
        {
          "output_type": "stream",
          "name": "stderr",
          "text": [
            "<ipython-input-84-528d8e3112de>:5: MarkupResemblesLocatorWarning: The input looks more like a filename than markup. You may want to open this file and pass the filehandle into Beautiful Soup.\n",
            "  soup = BeautifulSoup(text, \"html.parser\")\n"
          ]
        },
        {
          "output_type": "stream",
          "name": "stdout",
          "text": [
            "bow_pipeline\n"
          ]
        },
        {
          "output_type": "stream",
          "name": "stderr",
          "text": [
            "<ipython-input-84-528d8e3112de>:5: MarkupResemblesLocatorWarning: The input looks more like a filename than markup. You may want to open this file and pass the filehandle into Beautiful Soup.\n",
            "  soup = BeautifulSoup(text, \"html.parser\")\n",
            "<ipython-input-84-528d8e3112de>:5: MarkupResemblesLocatorWarning: The input looks more like a filename than markup. You may want to open this file and pass the filehandle into Beautiful Soup.\n",
            "  soup = BeautifulSoup(text, \"html.parser\")\n"
          ]
        },
        {
          "output_type": "stream",
          "name": "stdout",
          "text": [
            "google_pipeline\n"
          ]
        },
        {
          "output_type": "stream",
          "name": "stderr",
          "text": [
            "<ipython-input-84-528d8e3112de>:5: MarkupResemblesLocatorWarning: The input looks more like a filename than markup. You may want to open this file and pass the filehandle into Beautiful Soup.\n",
            "  soup = BeautifulSoup(text, \"html.parser\")\n",
            "<ipython-input-84-528d8e3112de>:5: MarkupResemblesLocatorWarning: The input looks more like a filename than markup. You may want to open this file and pass the filehandle into Beautiful Soup.\n",
            "  soup = BeautifulSoup(text, \"html.parser\")\n"
          ]
        },
        {
          "output_type": "stream",
          "name": "stdout",
          "text": [
            "cbow_custom_w2v_pipeline\n"
          ]
        },
        {
          "output_type": "stream",
          "name": "stderr",
          "text": [
            "<ipython-input-84-528d8e3112de>:5: MarkupResemblesLocatorWarning: The input looks more like a filename than markup. You may want to open this file and pass the filehandle into Beautiful Soup.\n",
            "  soup = BeautifulSoup(text, \"html.parser\")\n",
            "<ipython-input-84-528d8e3112de>:5: MarkupResemblesLocatorWarning: The input looks more like a filename than markup. You may want to open this file and pass the filehandle into Beautiful Soup.\n",
            "  soup = BeautifulSoup(text, \"html.parser\")\n"
          ]
        },
        {
          "output_type": "stream",
          "name": "stdout",
          "text": [
            "skgram_w2v_pipeline\n"
          ]
        },
        {
          "output_type": "execute_result",
          "data": {
            "text/plain": [
              "                                                 accuracy\n",
              "tfidf_pipeline_GaussianNB                        0.782828\n",
              "tfidf_pipeline_DecisionTreeClassifier            0.796086\n",
              "tfidf_pipeline_LogisticRegression                0.866793\n",
              "bow_pipeline_GaussianNB                          0.785985\n",
              "bow_pipeline_DecisionTreeClassifier              0.832702\n",
              "bow_pipeline_LogisticRegression                  0.865530\n",
              "google_pipeline_GaussianNB                       0.781566\n",
              "google_pipeline_DecisionTreeClassifier           0.777146\n",
              "google_pipeline_LogisticRegression               0.881944\n",
              "cbow_custom_w2v_pipeline_GaussianNB              0.827652\n",
              "cbow_custom_w2v_pipeline_DecisionTreeClassifier  0.829545\n",
              "cbow_custom_w2v_pipeline_LogisticRegression      0.873737\n",
              "skgram_w2v_pipeline_GaussianNB                   0.826389\n",
              "skgram_w2v_pipeline_DecisionTreeClassifier       0.834596\n",
              "skgram_w2v_pipeline_LogisticRegression           0.873106"
            ],
            "text/html": [
              "\n",
              "  <div id=\"df-b258758b-3125-4785-af2b-d2f919c83aa1\">\n",
              "    <div class=\"colab-df-container\">\n",
              "      <div>\n",
              "<style scoped>\n",
              "    .dataframe tbody tr th:only-of-type {\n",
              "        vertical-align: middle;\n",
              "    }\n",
              "\n",
              "    .dataframe tbody tr th {\n",
              "        vertical-align: top;\n",
              "    }\n",
              "\n",
              "    .dataframe thead th {\n",
              "        text-align: right;\n",
              "    }\n",
              "</style>\n",
              "<table border=\"1\" class=\"dataframe\">\n",
              "  <thead>\n",
              "    <tr style=\"text-align: right;\">\n",
              "      <th></th>\n",
              "      <th>accuracy</th>\n",
              "    </tr>\n",
              "  </thead>\n",
              "  <tbody>\n",
              "    <tr>\n",
              "      <th>tfidf_pipeline_GaussianNB</th>\n",
              "      <td>0.782828</td>\n",
              "    </tr>\n",
              "    <tr>\n",
              "      <th>tfidf_pipeline_DecisionTreeClassifier</th>\n",
              "      <td>0.796086</td>\n",
              "    </tr>\n",
              "    <tr>\n",
              "      <th>tfidf_pipeline_LogisticRegression</th>\n",
              "      <td>0.866793</td>\n",
              "    </tr>\n",
              "    <tr>\n",
              "      <th>bow_pipeline_GaussianNB</th>\n",
              "      <td>0.785985</td>\n",
              "    </tr>\n",
              "    <tr>\n",
              "      <th>bow_pipeline_DecisionTreeClassifier</th>\n",
              "      <td>0.832702</td>\n",
              "    </tr>\n",
              "    <tr>\n",
              "      <th>bow_pipeline_LogisticRegression</th>\n",
              "      <td>0.865530</td>\n",
              "    </tr>\n",
              "    <tr>\n",
              "      <th>google_pipeline_GaussianNB</th>\n",
              "      <td>0.781566</td>\n",
              "    </tr>\n",
              "    <tr>\n",
              "      <th>google_pipeline_DecisionTreeClassifier</th>\n",
              "      <td>0.777146</td>\n",
              "    </tr>\n",
              "    <tr>\n",
              "      <th>google_pipeline_LogisticRegression</th>\n",
              "      <td>0.881944</td>\n",
              "    </tr>\n",
              "    <tr>\n",
              "      <th>cbow_custom_w2v_pipeline_GaussianNB</th>\n",
              "      <td>0.827652</td>\n",
              "    </tr>\n",
              "    <tr>\n",
              "      <th>cbow_custom_w2v_pipeline_DecisionTreeClassifier</th>\n",
              "      <td>0.829545</td>\n",
              "    </tr>\n",
              "    <tr>\n",
              "      <th>cbow_custom_w2v_pipeline_LogisticRegression</th>\n",
              "      <td>0.873737</td>\n",
              "    </tr>\n",
              "    <tr>\n",
              "      <th>skgram_w2v_pipeline_GaussianNB</th>\n",
              "      <td>0.826389</td>\n",
              "    </tr>\n",
              "    <tr>\n",
              "      <th>skgram_w2v_pipeline_DecisionTreeClassifier</th>\n",
              "      <td>0.834596</td>\n",
              "    </tr>\n",
              "    <tr>\n",
              "      <th>skgram_w2v_pipeline_LogisticRegression</th>\n",
              "      <td>0.873106</td>\n",
              "    </tr>\n",
              "  </tbody>\n",
              "</table>\n",
              "</div>\n",
              "      <button class=\"colab-df-convert\" onclick=\"convertToInteractive('df-b258758b-3125-4785-af2b-d2f919c83aa1')\"\n",
              "              title=\"Convert this dataframe to an interactive table.\"\n",
              "              style=\"display:none;\">\n",
              "        \n",
              "  <svg xmlns=\"http://www.w3.org/2000/svg\" height=\"24px\"viewBox=\"0 0 24 24\"\n",
              "       width=\"24px\">\n",
              "    <path d=\"M0 0h24v24H0V0z\" fill=\"none\"/>\n",
              "    <path d=\"M18.56 5.44l.94 2.06.94-2.06 2.06-.94-2.06-.94-.94-2.06-.94 2.06-2.06.94zm-11 1L8.5 8.5l.94-2.06 2.06-.94-2.06-.94L8.5 2.5l-.94 2.06-2.06.94zm10 10l.94 2.06.94-2.06 2.06-.94-2.06-.94-.94-2.06-.94 2.06-2.06.94z\"/><path d=\"M17.41 7.96l-1.37-1.37c-.4-.4-.92-.59-1.43-.59-.52 0-1.04.2-1.43.59L10.3 9.45l-7.72 7.72c-.78.78-.78 2.05 0 2.83L4 21.41c.39.39.9.59 1.41.59.51 0 1.02-.2 1.41-.59l7.78-7.78 2.81-2.81c.8-.78.8-2.07 0-2.86zM5.41 20L4 18.59l7.72-7.72 1.47 1.35L5.41 20z\"/>\n",
              "  </svg>\n",
              "      </button>\n",
              "      \n",
              "  <style>\n",
              "    .colab-df-container {\n",
              "      display:flex;\n",
              "      flex-wrap:wrap;\n",
              "      gap: 12px;\n",
              "    }\n",
              "\n",
              "    .colab-df-convert {\n",
              "      background-color: #E8F0FE;\n",
              "      border: none;\n",
              "      border-radius: 50%;\n",
              "      cursor: pointer;\n",
              "      display: none;\n",
              "      fill: #1967D2;\n",
              "      height: 32px;\n",
              "      padding: 0 0 0 0;\n",
              "      width: 32px;\n",
              "    }\n",
              "\n",
              "    .colab-df-convert:hover {\n",
              "      background-color: #E2EBFA;\n",
              "      box-shadow: 0px 1px 2px rgba(60, 64, 67, 0.3), 0px 1px 3px 1px rgba(60, 64, 67, 0.15);\n",
              "      fill: #174EA6;\n",
              "    }\n",
              "\n",
              "    [theme=dark] .colab-df-convert {\n",
              "      background-color: #3B4455;\n",
              "      fill: #D2E3FC;\n",
              "    }\n",
              "\n",
              "    [theme=dark] .colab-df-convert:hover {\n",
              "      background-color: #434B5C;\n",
              "      box-shadow: 0px 1px 3px 1px rgba(0, 0, 0, 0.15);\n",
              "      filter: drop-shadow(0px 1px 2px rgba(0, 0, 0, 0.3));\n",
              "      fill: #FFFFFF;\n",
              "    }\n",
              "  </style>\n",
              "\n",
              "      <script>\n",
              "        const buttonEl =\n",
              "          document.querySelector('#df-b258758b-3125-4785-af2b-d2f919c83aa1 button.colab-df-convert');\n",
              "        buttonEl.style.display =\n",
              "          google.colab.kernel.accessAllowed ? 'block' : 'none';\n",
              "\n",
              "        async function convertToInteractive(key) {\n",
              "          const element = document.querySelector('#df-b258758b-3125-4785-af2b-d2f919c83aa1');\n",
              "          const dataTable =\n",
              "            await google.colab.kernel.invokeFunction('convertToInteractive',\n",
              "                                                     [key], {});\n",
              "          if (!dataTable) return;\n",
              "\n",
              "          const docLinkHtml = 'Like what you see? Visit the ' +\n",
              "            '<a target=\"_blank\" href=https://colab.research.google.com/notebooks/data_table.ipynb>data table notebook</a>'\n",
              "            + ' to learn more about interactive tables.';\n",
              "          element.innerHTML = '';\n",
              "          dataTable['output_type'] = 'display_data';\n",
              "          await google.colab.output.renderOutput(dataTable, element);\n",
              "          const docLink = document.createElement('div');\n",
              "          docLink.innerHTML = docLinkHtml;\n",
              "          element.appendChild(docLink);\n",
              "        }\n",
              "      </script>\n",
              "    </div>\n",
              "  </div>\n",
              "  "
            ]
          },
          "metadata": {},
          "execution_count": 89
        }
      ]
    },
    {
      "cell_type": "code",
      "source": [
        "pd.DataFrame(result_dict).transpose()['accuracy'].max()\n",
        "\n",
        "\n",
        "# pd.DataFrame(result_dict).transpose()"
      ],
      "metadata": {
        "id": "pzIFMTc2z0I7"
      },
      "execution_count": null,
      "outputs": []
    },
    {
      "cell_type": "code",
      "execution_count": null,
      "metadata": {
        "id": "uoRTwMI4LNpP"
      },
      "outputs": [],
      "source": [
        "\n",
        "# X_train_tfidf=custom_w2v_pipeline.fit_transform(X_train)\n",
        "# X_test_tfidf=custom_w2v_pipeline.transform(X_test)\n",
        "\n",
        "# X_train=TextPreprocessor().transform(X_train)"
      ]
    },
    {
      "cell_type": "code",
      "execution_count": null,
      "metadata": {
        "id": "_2YZPpH5LNpR"
      },
      "outputs": [],
      "source": [
        "# print(np.sum(X_train_tfidf >0))"
      ]
    },
    {
      "cell_type": "code",
      "execution_count": null,
      "metadata": {
        "id": "NNfCepzfTT54"
      },
      "outputs": [],
      "source": [
        "### pass parameters to Pipeline steps"
      ]
    },
    {
      "cell_type": "code",
      "execution_count": null,
      "metadata": {
        "id": "nC7OHsTbLNpR"
      },
      "outputs": [],
      "source": [
        "\n",
        "\n",
        "\n",
        "# algos=[('naive_bayes','GaussianNB'),('tree','DecisionTreeClassifier'),('linear_model','LogisticRegression')]\n",
        "# algos=[('linear_model','LogisticRegression')] ### why did i even do this?\n",
        "\n",
        "\n",
        "\n",
        "\n",
        "# for algo in algos:\n",
        "#     ## apparently the methods of the module are attributes of the obj outputted by import_module\n",
        "#     class_var=getattr(import_module(f'sklearn.{algo[0]}'),algo[1]) \n",
        "#     clf=class_var()\n",
        "#     # clf=module.\n",
        "#     clf.fit(X_train_to_use, y_train_to_use)\n",
        "#     y_pred=clf.predict(X_test_to_use)\n",
        "#     result_dict.update({f'{type(clf).__name__}':{'accuracy':accuracy_score(y_pred,y_test_to_use)}})\n",
        "# pd.DataFrame(result_dict)"
      ]
    },
    {
      "cell_type": "code",
      "execution_count": null,
      "metadata": {
        "id": "JQk3x_TGOxLQ"
      },
      "outputs": [],
      "source": [
        "#### preprocess the text to that is in the required format for word2vec\n",
        "\n"
      ]
    },
    {
      "cell_type": "code",
      "execution_count": null,
      "metadata": {
        "id": "wmFBQDV4PixS"
      },
      "outputs": [],
      "source": [
        "# print(simple_preprocess(tweets_data['tweet'][1])[:30])"
      ]
    },
    {
      "cell_type": "code",
      "execution_count": null,
      "metadata": {
        "id": "HmJ6b2GgnJ8F"
      },
      "outputs": [],
      "source": [
        "### google accuracy 0.8118686868686869\n",
        "### cbow accuracy 0.8377525252525253\n"
      ]
    }
  ],
  "metadata": {
    "accelerator": "GPU",
    "colab": {
      "provenance": []
    },
    "gpuClass": "standard",
    "kernelspec": {
      "display_name": "Python 3 (ipykernel)",
      "language": "python",
      "name": "python3"
    },
    "language_info": {
      "codemirror_mode": {
        "name": "ipython",
        "version": 3
      },
      "file_extension": ".py",
      "mimetype": "text/x-python",
      "name": "python",
      "nbconvert_exporter": "python",
      "pygments_lexer": "ipython3",
      "version": "3.9.16"
    }
  },
  "nbformat": 4,
  "nbformat_minor": 0
}